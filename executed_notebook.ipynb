{
 "cells": [
  {
   "cell_type": "code",
   "execution_count": 1,
   "id": "bd23b070-f26e-4e33-bda8-3fc89b106e0e",
   "metadata": {
    "execution": {
     "iopub.execute_input": "2024-01-12T15:55:10.345133Z",
     "iopub.status.busy": "2024-01-12T15:55:10.344211Z",
     "iopub.status.idle": "2024-01-12T15:55:10.370669Z",
     "shell.execute_reply": "2024-01-12T15:55:10.369849Z"
    }
   },
   "outputs": [
    {
     "name": "stdout",
     "output_type": "stream",
     "text": [
      "Hello World!\n"
     ]
    }
   ],
   "source": [
    "# GET /hello/world\n",
    "print(\"Hello World!\")"
   ]
  },
  {
   "cell_type": "code",
   "execution_count": 2,
   "id": "0f88f437",
   "metadata": {
    "execution": {
     "iopub.execute_input": "2024-01-12T15:55:10.380548Z",
     "iopub.status.busy": "2024-01-12T15:55:10.378029Z",
     "iopub.status.idle": "2024-01-12T15:55:10.394049Z",
     "shell.execute_reply": "2024-01-12T15:55:10.392472Z"
    }
   },
   "outputs": [
    {
     "name": "stdout",
     "output_type": "stream",
     "text": [
      "Cell #2!\n"
     ]
    }
   ],
   "source": [
    "# GET /hello/world\n",
    "print(\"Cell #2!\")"
   ]
  },
  {
   "cell_type": "code",
   "execution_count": null,
   "id": "8204d318",
   "metadata": {},
   "outputs": [],
   "source": []
  }
 ],
 "metadata": {
  "kernelspec": {
   "display_name": "Python 3 (ipykernel)",
   "language": "python",
   "name": "python3"
  },
  "language_info": {
   "codemirror_mode": {
    "name": "ipython",
    "version": 3
   },
   "file_extension": ".py",
   "mimetype": "text/x-python",
   "name": "python",
   "nbconvert_exporter": "python",
   "pygments_lexer": "ipython3",
   "version": "3.10.12"
  }
 },
 "nbformat": 4,
 "nbformat_minor": 5
}
